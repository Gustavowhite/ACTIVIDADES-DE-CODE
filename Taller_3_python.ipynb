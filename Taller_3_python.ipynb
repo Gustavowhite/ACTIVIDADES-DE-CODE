{
 "cells": [
  {
   "cell_type": "markdown",
   "id": "2027ce32",
   "metadata": {},
   "source": [
    "<h2>Name of the students</h2>\n",
    "\n",
    "<h1>1. Gustavo Blanco Jaramillo</h1>\n",
    "\n",
    "### ID: 502603\n",
    "\n",
    "### Email: gustavoj.blanco@upb.edu.co\n",
    "\n",
    "<h1>name of the Course</h1>\n",
    "<h2>Python aplicado a la Ingeniería</h2>\n",
    "            "
   ]
  },
  {
   "cell_type": "code",
   "execution_count": 14,
   "id": "f0dc0b43",
   "metadata": {
    "scrolled": true
   },
   "outputs": [
    {
     "name": "stdout",
     "output_type": "stream",
     "text": [
      "Digite el numero de personas que requiere ingresar a la sala: \n",
      " 100\n",
      "Ingrese el tiempo en horas que requiere la sala: \n",
      " 10\n",
      "ingrese el dias que requiere el servicio: \n",
      " 6\n",
      "ingrese el mes en numero. siendo, enero = 1 y diciembre = 12: \n",
      " 5\n",
      "ingrese el año: \n",
      " 2022\n",
      "\n",
      "        Bievenido a cinepython \n",
      "                or\n",
      "        Welcome to cinepython\n",
      "        \n",
      "        Mi estimado cliente de acuerdo a las datos que nos suministro al sistema podemos decir que la sala de cine que mas\n",
      "        se ajusta para las: (100 personas ), es la sala numero: 7.\n",
      "        \n",
      "        Datalles de la factura :\n",
      "        Concepto: Sala 7\n",
      "        dias: 6\n",
      "        mes: 5\n",
      "        año: 2022\n",
      "        horas: 10 horas\n",
      "        valor unitario: $ 120000\n",
      "        Iva: 0.16\n",
      "        cost for IVA: $ 192000.0\n",
      "        costo total: $ 1392000.0\n",
      "        \n",
      "        \n"
     ]
    }
   ],
   "source": [
    "reserva = int(input(\"Digite el numero de personas que requiere ingresar a la sala: \\n \"))\n",
    "tiempo = int(input(\"Ingrese el tiempo en horas que requiere la sala: \\n \"))\n",
    "day = int(input(\"ingrese el dias que requiere el servicio: \\n \"))\n",
    "month = int(input(\"ingrese el mes en numero. siendo, enero = 1 y diciembre = 12: \\n \"))\n",
    "years = int(input(\"ingrese el año: \\n \"))\n",
    "precio = 0\n",
    "imp = 0.16\n",
    "\n",
    "sala_asignada = ''\n",
    "salas_disponibles = {'1': (20, 10000), '2': (30, 20000), '3': (40, 40000), '4': (50, 60000), '5': (70, 80000), '6': (90, 100000), '7': (100, 120000)}\n",
    "for sala, datos_sala in salas_disponibles.items():\n",
    "    if reserva <= datos_sala[0]:\n",
    "        sala_asignada = sala\n",
    "        precio = datos_sala[1]\n",
    "        break\n",
    "        \n",
    "iva = tiempo * precio * imp\n",
    "        \n",
    "total = tiempo * precio + iva\n",
    "        \n",
    "resultado = f\"\"\"\n",
    "        Bievenido a cinepython \n",
    "                or\n",
    "        Welcome to cinepython\n",
    "        \n",
    "        Mi estimado cliente de acuerdo a las datos que nos suministro al sistema podemos decir que la sala de cine que mas\n",
    "        se ajusta para las: ({reserva} personas ), es la sala numero: {sala_asignada}.\n",
    "        \n",
    "        Datalles de la factura :\n",
    "        Concepto: Sala {sala_asignada}\n",
    "        dias: {day }\n",
    "        mes: {month }\n",
    "        año: {years }\n",
    "        horas: {tiempo } horas\n",
    "        valor unitario: $ {precio}\n",
    "        Iva: {imp}\n",
    "        cost for IVA: $ {iva}\n",
    "        costo total: $ {total}\n",
    "        \n",
    "        \"\"\"\n",
    "print(resultado)"
   ]
  }
 ],
 "metadata": {
  "kernelspec": {
   "display_name": "Python 3 (ipykernel)",
   "language": "python",
   "name": "python3"
  },
  "language_info": {
   "codemirror_mode": {
    "name": "ipython",
    "version": 3
   },
   "file_extension": ".py",
   "mimetype": "text/x-python",
   "name": "python",
   "nbconvert_exporter": "python",
   "pygments_lexer": "ipython3",
   "version": "3.9.12"
  }
 },
 "nbformat": 4,
 "nbformat_minor": 5
}

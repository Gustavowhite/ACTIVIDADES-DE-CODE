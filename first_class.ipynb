{
 "cells": [
  {
   "cell_type": "code",
   "execution_count": 1,
   "id": "4cbc7e0e",
   "metadata": {},
   "outputs": [
    {
     "name": "stdout",
     "output_type": "stream",
     "text": [
      "hello world of python\n"
     ]
    }
   ],
   "source": [
    "print(\"hello world of python\")"
   ]
  },
  {
   "cell_type": "code",
   "execution_count": 6,
   "id": "f4ca0675",
   "metadata": {},
   "outputs": [],
   "source": [
    "x = 2\n",
    "y = 3"
   ]
  },
  {
   "cell_type": "code",
   "execution_count": 5,
   "id": "dc71e440",
   "metadata": {},
   "outputs": [
    {
     "data": {
      "text/plain": [
       "5"
      ]
     },
     "execution_count": 5,
     "metadata": {},
     "output_type": "execute_result"
    }
   ],
   "source": [
    "x + y"
   ]
  },
  {
   "cell_type": "code",
   "execution_count": 4,
   "id": "e1b6ce01",
   "metadata": {},
   "outputs": [
    {
     "name": "stdout",
     "output_type": "stream",
     "text": [
      "5\n"
     ]
    }
   ],
   "source": [
    "print(x + y)"
   ]
  },
  {
   "cell_type": "code",
   "execution_count": 7,
   "id": "93cc2289",
   "metadata": {},
   "outputs": [
    {
     "name": "stdout",
     "output_type": "stream",
     "text": [
      "5\n"
     ]
    },
    {
     "data": {
      "text/plain": [
       "-1"
      ]
     },
     "execution_count": 7,
     "metadata": {},
     "output_type": "execute_result"
    }
   ],
   "source": [
    "print(x + y)\n",
    "x - y"
   ]
  },
  {
   "cell_type": "code",
   "execution_count": 8,
   "id": "5cfb5af0",
   "metadata": {},
   "outputs": [],
   "source": [
    "x?"
   ]
  },
  {
   "cell_type": "code",
   "execution_count": 9,
   "id": "9fa5443f",
   "metadata": {},
   "outputs": [
    {
     "ename": "AttributeError",
     "evalue": "module 'pandas' has no attribute 'DataFramea'",
     "output_type": "error",
     "traceback": [
      "\u001b[1;31m---------------------------------------------------------------------------\u001b[0m",
      "\u001b[1;31mAttributeError\u001b[0m                            Traceback (most recent call last)",
      "Input \u001b[1;32mIn [9]\u001b[0m, in \u001b[0;36m<cell line: 2>\u001b[1;34m()\u001b[0m\n\u001b[0;32m      1\u001b[0m \u001b[38;5;28;01mimport\u001b[39;00m \u001b[38;5;21;01mpandas\u001b[39;00m \u001b[38;5;28;01mas\u001b[39;00m \u001b[38;5;21;01mpd\u001b[39;00m\n\u001b[1;32m----> 2\u001b[0m \u001b[43mpd\u001b[49m\u001b[38;5;241;43m.\u001b[39;49m\u001b[43mDataFramea\u001b[49m\n",
      "File \u001b[1;32m~\\anaconda3\\lib\\site-packages\\pandas\\__init__.py:261\u001b[0m, in \u001b[0;36m__getattr__\u001b[1;34m(name)\u001b[0m\n\u001b[0;32m    257\u001b[0m     \u001b[38;5;28;01mfrom\u001b[39;00m \u001b[38;5;21;01mpandas\u001b[39;00m\u001b[38;5;21;01m.\u001b[39;00m\u001b[38;5;21;01mcore\u001b[39;00m\u001b[38;5;21;01m.\u001b[39;00m\u001b[38;5;21;01marrays\u001b[39;00m\u001b[38;5;21;01m.\u001b[39;00m\u001b[38;5;21;01msparse\u001b[39;00m \u001b[38;5;28;01mimport\u001b[39;00m SparseArray \u001b[38;5;28;01mas\u001b[39;00m _SparseArray\n\u001b[0;32m    259\u001b[0m     \u001b[38;5;28;01mreturn\u001b[39;00m _SparseArray\n\u001b[1;32m--> 261\u001b[0m \u001b[38;5;28;01mraise\u001b[39;00m \u001b[38;5;167;01mAttributeError\u001b[39;00m(\u001b[38;5;124mf\u001b[39m\u001b[38;5;124m\"\u001b[39m\u001b[38;5;124mmodule \u001b[39m\u001b[38;5;124m'\u001b[39m\u001b[38;5;124mpandas\u001b[39m\u001b[38;5;124m'\u001b[39m\u001b[38;5;124m has no attribute \u001b[39m\u001b[38;5;124m'\u001b[39m\u001b[38;5;132;01m{\u001b[39;00mname\u001b[38;5;132;01m}\u001b[39;00m\u001b[38;5;124m'\u001b[39m\u001b[38;5;124m\"\u001b[39m)\n",
      "\u001b[1;31mAttributeError\u001b[0m: module 'pandas' has no attribute 'DataFramea'"
     ]
    }
   ],
   "source": [
    "import pandas as pd\n",
    "pd.DataFramea"
   ]
  },
  {
   "cell_type": "code",
   "execution_count": 10,
   "id": "86e7ca6d",
   "metadata": {},
   "outputs": [
    {
     "data": {
      "text/plain": [
       "pandas.core.frame.DataFrame"
      ]
     },
     "execution_count": 10,
     "metadata": {},
     "output_type": "execute_result"
    }
   ],
   "source": [
    "import pandas as pd\n",
    "pd.DataFrame"
   ]
  },
  {
   "cell_type": "code",
   "execution_count": 1,
   "id": "4942938e",
   "metadata": {},
   "outputs": [
    {
     "name": "stdout",
     "output_type": "stream",
     "text": [
      "Hello Python\n"
     ]
    }
   ],
   "source": [
    "print(\"Hello Python\")"
   ]
  },
  {
   "cell_type": "code",
   "execution_count": 3,
   "id": "a15aa92f",
   "metadata": {},
   "outputs": [],
   "source": [
    "x = 6\n",
    "y = 9"
   ]
  },
  {
   "cell_type": "code",
   "execution_count": null,
   "id": "99fd5874",
   "metadata": {},
   "outputs": [],
   "source": [
    "print(x / y)\n",
    "print(x - y)\n",
    "print(x * y)\n",
    "print(x + y) "
   ]
  },
  {
   "cell_type": "code",
   "execution_count": 5,
   "id": "7b515c74",
   "metadata": {},
   "outputs": [],
   "source": [
    "variable_larga = 35\n",
    "paragraph = \"Un párrafo\""
   ]
  },
  {
   "cell_type": "code",
   "execution_count": null,
   "id": "2e14b516",
   "metadata": {},
   "outputs": [],
   "source": [
    "variable_larga"
   ]
  },
  {
   "cell_type": "code",
   "execution_count": 7,
   "id": "e50b3962",
   "metadata": {},
   "outputs": [],
   "source": [
    "variable_short = 20\n",
    "paragraph = \"it is the world of python with programming\""
   ]
  },
  {
   "cell_type": "code",
   "execution_count": null,
   "id": "c1d53f8a",
   "metadata": {},
   "outputs": [],
   "source": [
    "variable_short"
   ]
  },
  {
   "cell_type": "code",
   "execution_count": 9,
   "id": "a6beaffb",
   "metadata": {},
   "outputs": [
    {
     "name": "stdout",
     "output_type": "stream",
     "text": [
      "\n"
     ]
    }
   ],
   "source": [
    "print()"
   ]
  },
  {
   "cell_type": "code",
   "execution_count": null,
   "id": "be2df999",
   "metadata": {},
   "outputs": [],
   "source": [
    "lower = float(input(\"Ingrese límite inferior: \"))\n",
    "upper = float(input(\"Ingrese límite superior: \"))\n",
    "num = float(input(\"Ingrese número a evaluar: \"))\n",
    "if num > lower and num < upper:\n",
    "    print(\"El número\"+ str(num)+ \"se encuentra en el rango.\")\n",
    "else:\n",
    "    print(\"El número\"+str(num)+ \"NO se encuentra en el rango.\")"
   ]
  },
  {
   "cell_type": "code",
   "execution_count": 23,
   "id": "a0fe2ea8",
   "metadata": {},
   "outputs": [
    {
     "name": "stdout",
     "output_type": "stream",
     "text": [
      " Ingrese el numero inferior al sistema: 2000\n",
      " Ingrese el numero superior al sistema: 50000\n",
      " Ingrese al sistema el numero que desea evaluar: 20000\n",
      "El numero 20000.0 se encuentra en el rango.\n"
     ]
    }
   ],
   "source": [
    "inferior = float(input(\" Ingrese el numero inferior al sistema: \"))\n",
    "superior = float(input(\" Ingrese el numero superior al sistema: \"))\n",
    "num = float(input(\" Ingrese al sistema el numero que desea evaluar: \"))\n",
    "\n",
    "if num > inferior and num < superior:\n",
    "    print(\"El numero \" + str(num) + \" se encuentra en el rango.\")\n",
    "else:\n",
    "    print(\"el numero \"+ str(num) + \" el numero esta fuera del rango a evaluar.\")\n"
   ]
  },
  {
   "cell_type": "code",
   "execution_count": null,
   "id": "36731115",
   "metadata": {},
   "outputs": [],
   "source": []
  },
  {
   "cell_type": "markdown",
   "id": "98717f7a",
   "metadata": {},
   "source": [
    "inferior = float(input(\" Ingrese el numero inferior al sistema: \"))\n",
    "superior = float(input(\" Ingrese el numero superior al sistema: \"))\n",
    "num = float(input(\" Ingrese al sistema el numero que desea evaluar: \"))\n",
    "\n",
    "if num > inferior and num < superior:\n",
    "    print(\"El numero \" + str(num) + \" se encuentra en el rango.\")\n",
    "else:\n",
    "    print(\"el numero \"+ str(num) + \" el numero esta fuera del rango a evaluar.\")"
   ]
  },
  {
   "cell_type": "code",
   "execution_count": 18,
   "id": "cd9d907d",
   "metadata": {},
   "outputs": [
    {
     "name": "stdout",
     "output_type": "stream",
     "text": [
      " Ingrese el numero inferior al sistema: 499\n",
      " Ingrese el numero superior al sistema: 1000\n",
      " Ingrese al sistema el numero que desea evaluar: 2000\n",
      "el numero 2000.0 el numero esta fuera del rango a evaluar.\n"
     ]
    }
   ],
   "source": [
    "nferior = float(input(\" Ingrese el numero inferior al sistema: \"))\n",
    "superior = float(input(\" Ingrese el numero superior al sistema: \"))\n",
    "num = float(input(\" Ingrese al sistema el numero que desea evaluar: \"))\n",
    "\n",
    "if num > inferior and num < superior:\n",
    "    print(\"El numero \" + str(num) + \" se encuentra en el rango.\")\n",
    "else:\n",
    "    print(\"el numero \"+ str(num) + \" el numero esta fuera del rango a evaluar.\")"
   ]
  },
  {
   "cell_type": "code",
   "execution_count": 15,
   "id": "1a640e40",
   "metadata": {},
   "outputs": [
    {
     "name": "stdout",
     "output_type": "stream",
     "text": [
      "Ingrese límite inferior: 4\n",
      "Ingrese límite superior: 10\n",
      "Ingrese número a evaluar: 5\n",
      "El número 5.0 se encuentra en el rango.\n"
     ]
    }
   ],
   "source": [
    "lower = float(input(\"Ingrese límite inferior: \"))\n",
    "upper = float(input(\"Ingrese límite superior: \"))\n",
    "num = float(input(\"Ingrese número a evaluar: \"))\n",
    "if num > lower and num < upper:\n",
    "    print(\"El número \" + str(num) + \" se encuentra en el rango.\")\n",
    "else:\n",
    "    print(\"El número \" + str(num) + \" NO se encuentra en el rango.\")"
   ]
  },
  {
   "cell_type": "code",
   "execution_count": 17,
   "id": "4eaf087c",
   "metadata": {},
   "outputs": [
    {
     "name": "stdout",
     "output_type": "stream",
     "text": [
      "Ingrese límite inferior: 20\n",
      "Ingrese límite superior: 29\n",
      "Ingrese número a evaluar: 90\n",
      "El número 90.0 NO se encuentra en el rango.\n"
     ]
    }
   ],
   "source": [
    "lower = float(input(\"Ingrese límite inferior: \"))\n",
    "upper = float(input(\"Ingrese límite superior: \"))\n",
    "num = float(input(\"Ingrese número a evaluar: \"))\n",
    "if num > lower and num < upper:\n",
    "    print(\"El número \" + str(num) + \" se encuentra en el rango.\")\n",
    "else:\n",
    "    print(\"El número \" + str(num) + \" NO se encuentra en el rango.\")"
   ]
  },
  {
   "cell_type": "code",
   "execution_count": 19,
   "id": "5a523256",
   "metadata": {},
   "outputs": [
    {
     "data": {
      "text/plain": [
       "float"
      ]
     },
     "execution_count": 19,
     "metadata": {},
     "output_type": "execute_result"
    }
   ],
   "source": [
    "type(lower)"
   ]
  },
  {
   "cell_type": "code",
   "execution_count": 20,
   "id": "bd4b3f56",
   "metadata": {},
   "outputs": [
    {
     "name": "stdout",
     "output_type": "stream",
     "text": [
      "20.0\n"
     ]
    }
   ],
   "source": [
    "print(lower)"
   ]
  },
  {
   "cell_type": "code",
   "execution_count": 21,
   "id": "fd63b4e9",
   "metadata": {},
   "outputs": [
    {
     "name": "stdout",
     "output_type": "stream",
     "text": [
      "29.0\n"
     ]
    }
   ],
   "source": [
    "print(upper)"
   ]
  },
  {
   "cell_type": "code",
   "execution_count": 22,
   "id": "fca05dc5",
   "metadata": {},
   "outputs": [
    {
     "name": "stdout",
     "output_type": "stream",
     "text": [
      "30.0\n"
     ]
    }
   ],
   "source": [
    "print(inferior)"
   ]
  },
  {
   "cell_type": "code",
   "execution_count": 24,
   "id": "2a7b9a7f",
   "metadata": {},
   "outputs": [
    {
     "name": "stdout",
     "output_type": "stream",
     "text": [
      "['Pan', 'Espaguetti', 'Pollo']\n",
      "['Jugo', 'Gaseosa']\n"
     ]
    }
   ],
   "source": [
    "comidas = [\"Pan\", \"Espaguetti\", \"Pollo\"]\n",
    "bebidas = [\"Jugo\", \"Gaseosa\"]\n",
    "\n",
    "print(comidas)\n",
    "print(bebidas)"
   ]
  },
  {
   "cell_type": "code",
   "execution_count": 26,
   "id": "4e1d3fbd",
   "metadata": {},
   "outputs": [
    {
     "name": "stdout",
     "output_type": "stream",
     "text": [
      "['Andres Manuel Lopez Obrador (Mexico)', 'Daniel ortega (Nicaragua)', 'Alberto fernadez (argentina)...']\n",
      "['london', 'colombia', 'brasil', 'venezuela', 'peru', 'nicaragua', 'the united states']\n",
      "['toyota', 'ferrari sp48', 'Lamborghini', 'suzuki', 'chevrolet']\n"
     ]
    }
   ],
   "source": [
    "carros = [\"toyota\", \"ferrari sp48\", \"Lamborghini\", \"suzuki\", \"chevrolet\"]\n",
    "\n",
    "paises = [\"london\", \"colombia\", \"brasil\", \"venezuela\", \"peru\", \"nicaragua\", \"the united states\"]\n",
    "\n",
    "president = [\"Andres Manuel Lopez Obrador (Mexico)\", \"Daniel ortega (Nicaragua)\", \"Alberto fernadez (argentina)...\" ]\n",
    "\n",
    "print(president)\n",
    "print(paises)\n",
    "print(carros)\n"
   ]
  },
  {
   "cell_type": "code",
   "execution_count": null,
   "id": "32dc3fcf",
   "metadata": {},
   "outputs": [],
   "source": []
  },
  {
   "cell_type": "code",
   "execution_count": null,
   "id": "92939d8b",
   "metadata": {},
   "outputs": [],
   "source": []
  },
  {
   "cell_type": "code",
   "execution_count": null,
   "id": "40f0f0df",
   "metadata": {},
   "outputs": [],
   "source": []
  },
  {
   "cell_type": "code",
   "execution_count": null,
   "id": "21bdaeea",
   "metadata": {},
   "outputs": [],
   "source": []
  },
  {
   "cell_type": "code",
   "execution_count": null,
   "id": "5ccb7c94",
   "metadata": {},
   "outputs": [],
   "source": []
  },
  {
   "cell_type": "code",
   "execution_count": null,
   "id": "16d6925b",
   "metadata": {},
   "outputs": [],
   "source": []
  },
  {
   "cell_type": "code",
   "execution_count": null,
   "id": "c21009aa",
   "metadata": {},
   "outputs": [],
   "source": []
  }
 ],
 "metadata": {
  "kernelspec": {
   "display_name": "Python 3 (ipykernel)",
   "language": "python",
   "name": "python3"
  },
  "language_info": {
   "codemirror_mode": {
    "name": "ipython",
    "version": 3
   },
   "file_extension": ".py",
   "mimetype": "text/x-python",
   "name": "python",
   "nbconvert_exporter": "python",
   "pygments_lexer": "ipython3",
   "version": "3.9.12"
  }
 },
 "nbformat": 4,
 "nbformat_minor": 5
}

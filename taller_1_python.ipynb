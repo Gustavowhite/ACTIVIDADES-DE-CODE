{
 "cells": [
  {
   "cell_type": "markdown",
   "id": "bcbc7d03",
   "metadata": {},
   "source": [
    "<h2> Name of the students</h2>\n",
    "\n",
    "<h1> Gustavo Blanco Jaramillo</h1>\n",
    "\n",
    "<h3> ID: 502603</h3>\n",
    "\n",
    "<h3> Email: gustavojblanco@upb.edu.co</h3>\n",
    "\n",
    "<h3> Name of the course </h3>\n",
    "\n",
    "<h3> python aplicado a la ingeniria </h3>\n",
    "\n"
   ]
  },
  {
   "cell_type": "code",
   "execution_count": 70,
   "id": "93141ccd",
   "metadata": {},
   "outputs": [
    {
     "name": "stdout",
     "output_type": "stream",
     "text": [
      "ingrese el nombre del artista que desea companer una cancion: daddy\n",
      "yo quierotoda la nochetodo el diaolvidamoses que nos vamosSang off-key in my chorusYandelme gustas tantover que no se dé cuenta  daddy\n"
     ]
    }
   ],
   "source": [
    "# Para empezar ingresamos la linea de la libreria rando para que los datos sea aleatorios\n",
    "\n",
    "import random\n",
    "\n",
    "# ahora pasamos a solicitar por medio del sistema el nombre del artista con el apoyo de input\n",
    "\n",
    "\n",
    "artist = input(\"ingrese el nombre del artista que desea companer una cancion: \")\n",
    "\n",
    "\n",
    "\n",
    "# en este paso pasamos a realizar una serie de posibles palabras que combinan la cancion del artista\n",
    "\n",
    "\n",
    "word_one = [\"mami\", \"yo quiero\", \"encendelte\", \"suave hasta que salga el sol\", \"sin anestesia\", \"bebe...\", \"yo puedo \"]\n",
    "\n",
    "word_two = [\"amalte\", \"lento\", \"toda la noche\", \"sin compromiso\", \"princess\", \"yo vengo a\", \"ligal\", \"fuelte\", \"jugal \"]\n",
    "\n",
    "word_three = [\"hasta el amanecel\", \"face to face\", \"dalte\", \"voy a\", \"todo el dia\", \"sin miedo\", \"Sígueme y te sigo \"]\n",
    "\n",
    "word_four = [\"olvidamos\",\"Pa' la rumba \", \"Del mal de amor \", \"Oh oh oh...\", \"Y bailando nos\"]\n",
    "\n",
    "\n",
    "word_five = [\"es que nos vamos\", \"You promised the world\", \"Set fires to my forest\", \"I put you first and\", \"and I fell for it \"]\n",
    "\n",
    "word_six = [\"Bebiendo nos \", \"you adored it\", \"que nos han causado..x2\", \"Eh eh eh\", \"And you let it burn\", \"Sang off-key in my \"]\n",
    "\n",
    "word_seven = [\"chorus\", \"'Cause it wasn't yours\"]\n",
    "\n",
    "\n",
    "word_eight = [\"Uoh uho uho\", \"Top\", \"Yandel\", \"Que me tiemblan las manos,\", \"cuando la tengo cerca\", \"Pina Records \"]\n",
    "\n",
    "word_nine = [\"Si supieras que\", \"me gustas tanto\", \"Si supieras que sueño contigo (eh) \", \"Que no me basta \"]\n",
    "\n",
    "word_ten = [\"con ser su amigo\", \"Y para mí es un castigo\", \"ver que no se dé cuenta \"]\n",
    "\n",
    "\n",
    "# ahora realizamos un procesos de concatenacion de las multiples series de palabras que se pueden extraer de manera eleatorias\n",
    "\n",
    "letras = print(str(word_one[random.randint(0, len(word_one)-1)])+\n",
    "               str(word_two[random.randint(0, len(word_one)-1)])+\n",
    "               str(word_three[random.randint(0, len(word_three)-1)])+\n",
    "               str(word_four[random.randint(0, len(word_four)-1)])+\n",
    "               str(word_five[random.randint(0, len(word_five)-1)])+\n",
    "               str(word_six[random.randint(0, len(word_six)-1)])+\n",
    "               str(word_seven[random.randint(0, len(word_seven)-1)])+\n",
    "               str(word_eight[random.randint(0, len(word_eight)-1)])+\n",
    "               str(word_nine[random.randint(0, len(word_nine)-1)])+\n",
    "               str(word_ten[random.randint(0, len(word_ten)-1)])+\" \"+ artist)\n"
   ]
  },
  {
   "cell_type": "code",
   "execution_count": 74,
   "id": "4320143c",
   "metadata": {},
   "outputs": [
    {
     "name": "stdout",
     "output_type": "stream",
     "text": [
      "sin anestesiajugal dalteOh oh oh...es que nos vamosyou adored itchoruscuando la tengo cercaQue no me basta Y para mí es un castigo daddy\n",
      "encendeltesin compromisosin miedoPa' la rumba and I fell for it And you let it burn'Cause it wasn't yoursQue me tiemblan las manos,Si supieras quecon ser su amigo daddy\n",
      "yo puedo sin compromisoface to faceY bailando nosYou promised the worldEh eh eh'Cause it wasn't yoursQue me tiemblan las manos,me gustas tantocon ser su amigo daddy\n",
      "sin anestesialentosin miedoOh oh oh...es que nos vamosyou adored itchorusTopSi supieras quecon ser su amigo daddy\n",
      "bebe...fueltehasta el amanecelDel mal de amor and I fell for it And you let it burn'Cause it wasn't yoursTopme gustas tantocon ser su amigo daddy\n",
      "  \n",
      " None \n",
      " None \n",
      " None \n",
      " None \n",
      " None\n"
     ]
    }
   ],
   "source": [
    "def sele_letra(textos):\n",
    "    \n",
    "    start = 0\n",
    "    texto = \" \"\n",
    "    while start < textos:\n",
    "        x_1 = random.randint(0, len(word_one)-1)\n",
    "        x_2 = random.randint(0, len(word_two)-1)\n",
    "        x_3 = random.randint(0, len(word_three)-1)\n",
    "        x_4 = random.randint(0, len(word_four)-1)\n",
    "        x_5 = random.randint(0, len(word_five)-1)\n",
    "        x_6 = random.randint(0, len(word_six)-1)\n",
    "        x_7 = random.randint(0, len(word_seven)-1)\n",
    "        x_8 = random.randint(0, len(word_eight)-1)\n",
    "        x_9 = random.randint(0, len(word_nine)-1)\n",
    "        x_10 = random.randint(0, len(word_ten)-1)\n",
    "        \n",
    "        chars = print(str (word_one [x_1]) + str (word_two [x_2]) + str (word_three [x_3]) + str (word_four [x_4]) + str (word_five [x_5]) + \n",
    "                  str (word_six [x_6]) + str (word_seven [x_7]) + str (word_eight [x_8]) + \n",
    "                  str (word_nine [x_9]) + str (word_ten [x_10]) + \" \" + artist)\n",
    "        \n",
    "        texto = str (texto) + ' \\n ' + str (letras)\n",
    "        start = start + 1\n",
    "    return texto\n",
    "    \n",
    "print(sele_letra(5))"
   ]
  }
 ],
 "metadata": {
  "kernelspec": {
   "display_name": "Python 3 (ipykernel)",
   "language": "python",
   "name": "python3"
  },
  "language_info": {
   "codemirror_mode": {
    "name": "ipython",
    "version": 3
   },
   "file_extension": ".py",
   "mimetype": "text/x-python",
   "name": "python",
   "nbconvert_exporter": "python",
   "pygments_lexer": "ipython3",
   "version": "3.9.12"
  }
 },
 "nbformat": 4,
 "nbformat_minor": 5
}
